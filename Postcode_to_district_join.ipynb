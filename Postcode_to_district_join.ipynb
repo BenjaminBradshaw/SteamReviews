{
  "nbformat": 4,
  "nbformat_minor": 0,
  "metadata": {
    "colab": {
      "provenance": [],
      "authorship_tag": "ABX9TyNh6MGi8rPlYzqiDNDAlWkZ",
      "include_colab_link": true
    },
    "kernelspec": {
      "name": "python3",
      "display_name": "Python 3"
    },
    "language_info": {
      "name": "python"
    }
  },
  "cells": [
    {
      "cell_type": "markdown",
      "metadata": {
        "id": "view-in-github",
        "colab_type": "text"
      },
      "source": [
        "<a href=\"https://colab.research.google.com/github/BenjaminBradshaw/SteamReviews/blob/master/Postcode_to_district_join.ipynb\" target=\"_parent\"><img src=\"https://colab.research.google.com/assets/colab-badge.svg\" alt=\"Open In Colab\"/></a>"
      ]
    },
    {
      "cell_type": "code",
      "execution_count": 1,
      "metadata": {
        "colab": {
          "base_uri": "https://localhost:8080/"
        },
        "id": "h4j3K9EpDjTl",
        "outputId": "4aae5933-94d3-4941-870e-239eaeccf686"
      },
      "outputs": [
        {
          "output_type": "stream",
          "name": "stdout",
          "text": [
            "Looking in indexes: https://pypi.org/simple, https://us-python.pkg.dev/colab-wheels/public/simple/\n",
            "Collecting geopandas\n",
            "  Downloading geopandas-0.12.2-py3-none-any.whl (1.1 MB)\n",
            "\u001b[2K     \u001b[90m━━━━━━━━━━━━━━━━━━━━━━━━━━━━━━━━━━━━━━━━\u001b[0m \u001b[32m1.1/1.1 MB\u001b[0m \u001b[31m33.2 MB/s\u001b[0m eta \u001b[36m0:00:00\u001b[0m\n",
            "\u001b[?25hRequirement already satisfied: pandas>=1.0.0 in /usr/local/lib/python3.8/dist-packages (from geopandas) (1.3.5)\n",
            "Requirement already satisfied: shapely>=1.7 in /usr/local/lib/python3.8/dist-packages (from geopandas) (2.0.1)\n",
            "Requirement already satisfied: packaging in /usr/local/lib/python3.8/dist-packages (from geopandas) (23.0)\n",
            "Collecting fiona>=1.8\n",
            "  Downloading Fiona-1.9.1-cp38-cp38-manylinux_2_17_x86_64.manylinux2014_x86_64.whl (16.0 MB)\n",
            "\u001b[2K     \u001b[90m━━━━━━━━━━━━━━━━━━━━━━━━━━━━━━━━━━━━━━━━\u001b[0m \u001b[32m16.0/16.0 MB\u001b[0m \u001b[31m31.1 MB/s\u001b[0m eta \u001b[36m0:00:00\u001b[0m\n",
            "\u001b[?25hCollecting pyproj>=2.6.1.post1\n",
            "  Downloading pyproj-3.4.1-cp38-cp38-manylinux_2_17_x86_64.manylinux2014_x86_64.whl (7.8 MB)\n",
            "\u001b[2K     \u001b[90m━━━━━━━━━━━━━━━━━━━━━━━━━━━━━━━━━━━━━━━━\u001b[0m \u001b[32m7.8/7.8 MB\u001b[0m \u001b[31m80.5 MB/s\u001b[0m eta \u001b[36m0:00:00\u001b[0m\n",
            "\u001b[?25hCollecting click~=8.0\n",
            "  Downloading click-8.1.3-py3-none-any.whl (96 kB)\n",
            "\u001b[2K     \u001b[90m━━━━━━━━━━━━━━━━━━━━━━━━━━━━━━━━━━━━━━━━\u001b[0m \u001b[32m96.6/96.6 KB\u001b[0m \u001b[31m8.1 MB/s\u001b[0m eta \u001b[36m0:00:00\u001b[0m\n",
            "\u001b[?25hCollecting click-plugins>=1.0\n",
            "  Downloading click_plugins-1.1.1-py2.py3-none-any.whl (7.5 kB)\n",
            "Requirement already satisfied: certifi in /usr/local/lib/python3.8/dist-packages (from fiona>=1.8->geopandas) (2022.12.7)\n",
            "Collecting munch>=2.3.2\n",
            "  Downloading munch-2.5.0-py2.py3-none-any.whl (10 kB)\n",
            "Requirement already satisfied: setuptools in /usr/local/lib/python3.8/dist-packages (from fiona>=1.8->geopandas) (57.4.0)\n",
            "Requirement already satisfied: attrs>=19.2.0 in /usr/local/lib/python3.8/dist-packages (from fiona>=1.8->geopandas) (22.2.0)\n",
            "Collecting cligj>=0.5\n",
            "  Downloading cligj-0.7.2-py3-none-any.whl (7.1 kB)\n",
            "Requirement already satisfied: numpy>=1.17.3 in /usr/local/lib/python3.8/dist-packages (from pandas>=1.0.0->geopandas) (1.22.4)\n",
            "Requirement already satisfied: python-dateutil>=2.7.3 in /usr/local/lib/python3.8/dist-packages (from pandas>=1.0.0->geopandas) (2.8.2)\n",
            "Requirement already satisfied: pytz>=2017.3 in /usr/local/lib/python3.8/dist-packages (from pandas>=1.0.0->geopandas) (2022.7.1)\n",
            "Requirement already satisfied: six in /usr/local/lib/python3.8/dist-packages (from munch>=2.3.2->fiona>=1.8->geopandas) (1.15.0)\n",
            "Installing collected packages: pyproj, munch, click, cligj, click-plugins, fiona, geopandas\n",
            "  Attempting uninstall: click\n",
            "    Found existing installation: click 7.1.2\n",
            "    Uninstalling click-7.1.2:\n",
            "      Successfully uninstalled click-7.1.2\n",
            "\u001b[31mERROR: pip's dependency resolver does not currently take into account all the packages that are installed. This behaviour is the source of the following dependency conflicts.\n",
            "flask 1.1.4 requires click<8.0,>=5.1, but you have click 8.1.3 which is incompatible.\u001b[0m\u001b[31m\n",
            "\u001b[0mSuccessfully installed click-8.1.3 click-plugins-1.1.1 cligj-0.7.2 fiona-1.9.1 geopandas-0.12.2 munch-2.5.0 pyproj-3.4.1\n"
          ]
        }
      ],
      "source": [
        "!pip install geopandas"
      ]
    },
    {
      "cell_type": "code",
      "source": [
        "import geopandas as gp"
      ],
      "metadata": {
        "id": "66AR1213DoaS"
      },
      "execution_count": 2,
      "outputs": []
    },
    {
      "cell_type": "code",
      "source": [
        "postcode= gp.read_file(\"https://www.abs.gov.au/statistics/standards/australian-statistical-geography-standard-asgs-edition-3/jul2021-jun2026/access-and-downloads/digital-boundary-files/POA_2021_AUST_GDA2020_SHP.zip\")"
      ],
      "metadata": {
        "colab": {
          "base_uri": "https://localhost:8080/"
        },
        "id": "1orZcP6sDq9K",
        "outputId": "2b4e444f-300d-483b-dfed-d76bce6ea865"
      },
      "execution_count": 4,
      "outputs": [
        {
          "output_type": "stream",
          "name": "stderr",
          "text": [
            "ERROR:fiona._env:Pointer 'hGeom' is NULL in 'OGR_G_GetGeometryType'.\n",
            "\n",
            "ERROR:fiona._env:Pointer 'hGeom' is NULL in 'OGR_G_GetGeometryType'.\n",
            "\n",
            "ERROR:fiona._env:Pointer 'hGeom' is NULL in 'OGR_G_GetGeometryType'.\n",
            "\n"
          ]
        }
      ]
    },
    {
      "cell_type": "code",
      "source": [
        "postcode.plot()"
      ],
      "metadata": {
        "colab": {
          "base_uri": "https://localhost:8080/",
          "height": 247
        },
        "id": "TYmDtUptDwzi",
        "outputId": "33153b22-4241-40ee-8e45-0d3bd19e0820"
      },
      "execution_count": 5,
      "outputs": [
        {
          "output_type": "execute_result",
          "data": {
            "text/plain": [
              "<AxesSubplot:>"
            ]
          },
          "metadata": {},
          "execution_count": 5
        },
        {
          "output_type": "display_data",
          "data": {
            "text/plain": [
              "<Figure size 432x288 with 1 Axes>"
            ],
            "image/png": "[encoded data removed]"
          },
          "metadata": {
            "needs_background": "light"
          }
        }
      ]
    },
    {
      "cell_type": "code",
      "source": [
        "postcode"
      ],
      "metadata": {
        "colab": {
          "base_uri": "https://localhost:8080/",
          "height": 424
        },
        "id": "_9qq2HC1D8-r",
        "outputId": "c92e647d-38a6-40c5-cef0-e0d26b410a67"
      },
      "execution_count": 8,
      "outputs": [
        {
          "output_type": "execute_result",
          "data": {
            "text/plain": [
              "     POA_CODE21                               POA_NAME21 AUS_CODE21  \\\n",
              "0          0800                                     0800        AUS   \n",
              "1          0810                                     0810        AUS   \n",
              "2          0812                                     0812        AUS   \n",
              "3          0820                                     0820        AUS   \n",
              "4          0822                                     0822        AUS   \n",
              "...         ...                                      ...        ...   \n",
              "2639       7469                                     7469        AUS   \n",
              "2640       7470                                     7470        AUS   \n",
              "2641       9494                 No usual address (Aust.)        AUS   \n",
              "2642       9797  Migratory - Offshore - Shipping (Aust.)        AUS   \n",
              "2643       ZZZZ                        Outside Australia        ZZZ   \n",
              "\n",
              "             AUS_NAME21   AREASQKM21  \\\n",
              "0             Australia       3.1731   \n",
              "1             Australia      24.4283   \n",
              "2             Australia      35.8899   \n",
              "3             Australia      39.0642   \n",
              "4             Australia  150775.8030   \n",
              "...                 ...          ...   \n",
              "2639          Australia    5893.5125   \n",
              "2640          Australia     108.2441   \n",
              "2641          Australia       0.0000   \n",
              "2642          Australia       0.0000   \n",
              "2643  Outside Australia       0.0000   \n",
              "\n",
              "                                             LOCI_URI21  SHAPE_Leng  \\\n",
              "0     http://linked.data.gov.au/dataset/asgsed3/POA/...    0.081893   \n",
              "1     http://linked.data.gov.au/dataset/asgsed3/POA/...    0.241859   \n",
              "2     http://linked.data.gov.au/dataset/asgsed3/POA/...    0.278788   \n",
              "3     http://linked.data.gov.au/dataset/asgsed3/POA/...    0.409134   \n",
              "4     http://linked.data.gov.au/dataset/asgsed3/POA/...   90.601831   \n",
              "...                                                 ...         ...   \n",
              "2639  http://linked.data.gov.au/dataset/asgsed3/POA/...   11.341555   \n",
              "2640  http://linked.data.gov.au/dataset/asgsed3/POA/...    0.781048   \n",
              "2641  http://linked.data.gov.au/dataset/asgsed3/POA/...    0.000000   \n",
              "2642  http://linked.data.gov.au/dataset/asgsed3/POA/...    0.000000   \n",
              "2643  http://linked.data.gov.au/dataset/asgsed3/POA/...    0.000000   \n",
              "\n",
              "      SHAPE_Area                                           geometry  \n",
              "0       0.000264  POLYGON ((130.83681 -12.45376, 130.83684 -12.4...  \n",
              "1       0.002031  POLYGON ((130.89986 -12.36567, 130.89875 -12.3...  \n",
              "2       0.002983  POLYGON ((130.91915 -12.40786, 130.91831 -12.4...  \n",
              "3       0.003248  POLYGON ((130.85260 -12.43994, 130.85089 -12.4...  \n",
              "4      12.564238  MULTIPOLYGON (((136.56648 -12.08392, 136.56704...  \n",
              "...          ...                                                ...  \n",
              "2639    0.636169  MULTIPOLYGON (((144.79215 -41.46478, 144.79212...  \n",
              "2640    0.011725  POLYGON ((145.57769 -41.78640, 145.57686 -41.7...  \n",
              "2641    0.000000                                               None  \n",
              "2642    0.000000                                               None  \n",
              "2643    0.000000                                               None  \n",
              "\n",
              "[2644 rows x 9 columns]"
            ],
            "text/html": [
              "\n",
              "  <div id=\"df-9c5ae495-6b09-4d1b-ad4b-729022f7ff62\">\n",
              "    <div class=\"colab-df-container\">\n",
              "      <div>\n",
              "<style scoped>\n",
              "    .dataframe tbody tr th:only-of-type {\n",
              "        vertical-align: middle;\n",
              "    }\n",
              "\n",
              "    .dataframe tbody tr th {\n",
              "        vertical-align: top;\n",
              "    }\n",
              "\n",
              "    .dataframe thead th {\n",
              "        text-align: right;\n",
              "    }\n",
              "</style>\n",
              "<table border=\"1\" class=\"dataframe\">\n",
              "  <thead>\n",
              "    <tr style=\"text-align: right;\">\n",
              "      <th></th>\n",
              "      <th>POA_CODE21</th>\n",
              "      <th>POA_NAME21</th>\n",
              "      <th>AUS_CODE21</th>\n",
              "      <th>AUS_NAME21</th>\n",
              "      <th>AREASQKM21</th>\n",
              "      <th>LOCI_URI21</th>\n",
              "      <th>SHAPE_Leng</th>\n",
              "      <th>SHAPE_Area</th>\n",
              "      <th>geometry</th>\n",
              "    </tr>\n",
              "  </thead>\n",
              "  <tbody>\n",
              "    <tr>\n",
              "      <th>0</th>\n",
              "      <td>0800</td>\n",
              "      <td>0800</td>\n",
              "      <td>AUS</td>\n",
              "      <td>Australia</td>\n",
              "      <td>3.1731</td>\n",
              "      <td>http://linked.data.gov.au/dataset/asgsed3/POA/...</td>\n",
              "      <td>0.081893</td>\n",
              "      <td>0.000264</td>\n",
              "      <td>POLYGON ((130.83681 -12.45376, 130.83684 -12.4...</td>\n",
              "    </tr>\n",
              "    <tr>\n",
              "      <th>1</th>\n",
              "      <td>0810</td>\n",
              "      <td>0810</td>\n",
              "      <td>AUS</td>\n",
              "      <td>Australia</td>\n",
              "      <td>24.4283</td>\n",
              "      <td>http://linked.data.gov.au/dataset/asgsed3/POA/...</td>\n",
              "      <td>0.241859</td>\n",
              "      <td>0.002031</td>\n",
              "      <td>POLYGON ((130.89986 -12.36567, 130.89875 -12.3...</td>\n",
              "    </tr>\n",
              "    <tr>\n",
              "      <th>2</th>\n",
              "      <td>0812</td>\n",
              "      <td>0812</td>\n",
              "      <td>AUS</td>\n",
              "      <td>Australia</td>\n",
              "      <td>35.8899</td>\n",
              "      <td>http://linked.data.gov.au/dataset/asgsed3/POA/...</td>\n",
              "      <td>0.278788</td>\n",
              "      <td>0.002983</td>\n",
              "      <td>POLYGON ((130.91915 -12.40786, 130.91831 -12.4...</td>\n",
              "    </tr>\n",
              "    <tr>\n",
              "      <th>3</th>\n",
              "      <td>0820</td>\n",
              "      <td>0820</td>\n",
              "      <td>AUS</td>\n",
              "      <td>Australia</td>\n",
              "      <td>39.0642</td>\n",
              "      <td>http://linked.data.gov.au/dataset/asgsed3/POA/...</td>\n",
              "      <td>0.409134</td>\n",
              "      <td>0.003248</td>\n",
              "      <td>POLYGON ((130.85260 -12.43994, 130.85089 -12.4...</td>\n",
              "    </tr>\n",
              "    <tr>\n",
              "      <th>4</th>\n",
              "      <td>0822</td>\n",
              "      <td>0822</td>\n",
              "      <td>AUS</td>\n",
              "      <td>Australia</td>\n",
              "      <td>150775.8030</td>\n",
              "      <td>http://linked.data.gov.au/dataset/asgsed3/POA/...</td>\n",
              "      <td>90.601831</td>\n",
              "      <td>12.564238</td>\n",
              "      <td>MULTIPOLYGON (((136.56648 -12.08392, 136.56704...</td>\n",
              "    </tr>\n",
              "    <tr>\n",
              "      <th>...</th>\n",
              "      <td>...</td>\n",
              "      <td>...</td>\n",
              "      <td>...</td>\n",
              "      <td>...</td>\n",
              "      <td>...</td>\n",
              "      <td>...</td>\n",
              "      <td>...</td>\n",
              "      <td>...</td>\n",
              "      <td>...</td>\n",
              "    </tr>\n",
              "    <tr>\n",
              "      <th>2639</th>\n",
              "      <td>7469</td>\n",
              "      <td>7469</td>\n",
              "      <td>AUS</td>\n",
              "      <td>Australia</td>\n",
              "      <td>5893.5125</td>\n",
              "      <td>http://linked.data.gov.au/dataset/asgsed3/POA/...</td>\n",
              "      <td>11.341555</td>\n",
              "      <td>0.636169</td>\n",
              "      <td>MULTIPOLYGON (((144.79215 -41.46478, 144.79212...</td>\n",
              "    </tr>\n",
              "    <tr>\n",
              "      <th>2640</th>\n",
              "      <td>7470</td>\n",
              "      <td>7470</td>\n",
              "      <td>AUS</td>\n",
              "      <td>Australia</td>\n",
              "      <td>108.2441</td>\n",
              "      <td>http://linked.data.gov.au/dataset/asgsed3/POA/...</td>\n",
              "      <td>0.781048</td>\n",
              "      <td>0.011725</td>\n",
              "      <td>POLYGON ((145.57769 -41.78640, 145.57686 -41.7...</td>\n",
              "    </tr>\n",
              "    <tr>\n",
              "      <th>2641</th>\n",
              "      <td>9494</td>\n",
              "      <td>No usual address (Aust.)</td>\n",
              "      <td>AUS</td>\n",
              "      <td>Australia</td>\n",
              "      <td>0.0000</td>\n",
              "      <td>http://linked.data.gov.au/dataset/asgsed3/POA/...</td>\n",
              "      <td>0.000000</td>\n",
              "      <td>0.000000</td>\n",
              "      <td>None</td>\n",
              "    </tr>\n",
              "    <tr>\n",
              "      <th>2642</th>\n",
              "      <td>9797</td>\n",
              "      <td>Migratory - Offshore - Shipping (Aust.)</td>\n",
              "      <td>AUS</td>\n",
              "      <td>Australia</td>\n",
              "      <td>0.0000</td>\n",
              "      <td>http://linked.data.gov.au/dataset/asgsed3/POA/...</td>\n",
              "      <td>0.000000</td>\n",
              "      <td>0.000000</td>\n",
              "      <td>None</td>\n",
              "    </tr>\n",
              "    <tr>\n",
              "      <th>2643</th>\n",
              "      <td>ZZZZ</td>\n",
              "      <td>Outside Australia</td>\n",
              "      <td>ZZZ</td>\n",
              "      <td>Outside Australia</td>\n",
              "      <td>0.0000</td>\n",
              "      <td>http://linked.data.gov.au/dataset/asgsed3/POA/...</td>\n",
              "      <td>0.000000</td>\n",
              "      <td>0.000000</td>\n",
              "      <td>None</td>\n",
              "    </tr>\n",
              "  </tbody>\n",
              "</table>\n",
              "<p>2644 rows × 9 columns</p>\n",
              "</div>\n",
              "      <button class=\"colab-df-convert\" onclick=\"convertToInteractive('df-9c5ae495-6b09-4d1b-ad4b-729022f7ff62')\"\n",
              "              title=\"Convert this dataframe to an interactive table.\"\n",
              "              style=\"display:none;\">\n",
              "        \n",
              "  <svg xmlns=\"http://www.w3.org/2000/svg\" height=\"24px\"viewBox=\"0 0 24 24\"\n",
              "       width=\"24px\">\n",
              "    <path d=\"M0 0h24v24H0V0z\" fill=\"none\"/>\n",
              "    <path d=\"M18.56 5.44l.94 2.06.94-2.06 2.06-.94-2.06-.94-.94-2.06-.94 2.06-2.06.94zm-11 1L8.5 8.5l.94-2.06 2.06-.94-2.06-.94L8.5 2.5l-.94 2.06-2.06.94zm10 10l.94 2.06.94-2.06 2.06-.94-2.06-.94-.94-2.06-.94 2.06-2.06.94z\"/><path d=\"M17.41 7.96l-1.37-1.37c-.4-.4-.92-.59-1.43-.59-.52 0-1.04.2-1.43.59L10.3 9.45l-7.72 7.72c-.78.78-.78 2.05 0 2.83L4 21.41c.39.39.9.59 1.41.59.51 0 1.02-.2 1.41-.59l7.78-7.78 2.81-2.81c.8-.78.8-2.07 0-2.86zM5.41 20L4 18.59l7.72-7.72 1.47 1.35L5.41 20z\"/>\n",
              "  </svg>\n",
              "      </button>\n",
              "      \n",
              "  <style>\n",
              "    .colab-df-container {\n",
              "      display:flex;\n",
              "      flex-wrap:wrap;\n",
              "      gap: 12px;\n",
              "    }\n",
              "\n",
              "    .colab-df-convert {\n",
              "      background-color: #E8F0FE;\n",
              "      border: none;\n",
              "      border-radius: 50%;\n",
              "      cursor: pointer;\n",
              "      display: none;\n",
              "      fill: #1967D2;\n",
              "      height: 32px;\n",
              "      padding: 0 0 0 0;\n",
              "      width: 32px;\n",
              "    }\n",
              "\n",
              "    .colab-df-convert:hover {\n",
              "      background-color: #E2EBFA;\n",
              "      box-shadow: 0px 1px 2px rgba(60, 64, 67, 0.3), 0px 1px 3px 1px rgba(60, 64, 67, 0.15);\n",
              "      fill: #174EA6;\n",
              "    }\n",
              "\n",
              "    [theme=dark] .colab-df-convert {\n",
              "      background-color: #3B4455;\n",
              "      fill: #D2E3FC;\n",
              "    }\n",
              "\n",
              "    [theme=dark] .colab-df-convert:hover {\n",
              "      background-color: #434B5C;\n",
              "      box-shadow: 0px 1px 3px 1px rgba(0, 0, 0, 0.15);\n",
              "      filter: drop-shadow(0px 1px 2px rgba(0, 0, 0, 0.3));\n",
              "      fill: #FFFFFF;\n",
              "    }\n",
              "  </style>\n",
              "\n",
              "      <script>\n",
              "        const buttonEl =\n",
              "          document.querySelector('#df-9c5ae495-6b09-4d1b-ad4b-729022f7ff62 button.colab-df-convert');\n",
              "        buttonEl.style.display =\n",
              "          google.colab.kernel.accessAllowed ? 'block' : 'none';\n",
              "\n",
              "        async function convertToInteractive(key) {\n",
              "          const element = document.querySelector('#df-9c5ae495-6b09-4d1b-ad4b-729022f7ff62');\n",
              "          const dataTable =\n",
              "            await google.colab.kernel.invokeFunction('convertToInteractive',\n",
              "                                                     [key], {});\n",
              "          if (!dataTable) return;\n",
              "\n",
              "          const docLinkHtml = 'Like what you see? Visit the ' +\n",
              "            '<a target=\"_blank\" href=https://colab.research.google.com/notebooks/data_table.ipynb>data table notebook</a>'\n",
              "            + ' to learn more about interactive tables.';\n",
              "          element.innerHTML = '';\n",
              "          dataTable['output_type'] = 'display_data';\n",
              "          await google.colab.output.renderOutput(dataTable, element);\n",
              "          const docLink = document.createElement('div');\n",
              "          docLink.innerHTML = docLinkHtml;\n",
              "          element.appendChild(docLink);\n",
              "        }\n",
              "      </script>\n",
              "    </div>\n",
              "  </div>\n",
              "  "
            ]
          },
          "metadata": {},
          "execution_count": 8
        }
      ]
    },
    {
      "cell_type": "code",
      "source": [
        "postcode.POA_NAME21.unique()"
      ],
      "metadata": {
        "colab": {
          "base_uri": "https://localhost:8080/"
        },
        "id": "3stvxSznEBMT",
        "outputId": "f623ab50-bbf6-4476-9dc5-8f72174c429f"
      },
      "execution_count": 9,
      "outputs": [
        {
          "output_type": "execute_result",
          "data": {
            "text/plain": [
              "array(['0800', '0810', '0812', ..., 'No usual address (Aust.)',\n",
              "       'Migratory - Offshore - Shipping (Aust.)', 'Outside Australia'],\n",
              "      dtype=object)"
            ]
          },
          "metadata": {},
          "execution_count": 9
        }
      ]
    },
    {
      "cell_type": "code",
      "source": [
        "postcode[postcode.POA_CODE21==\"2611\"].plot()"
      ],
      "metadata": {
        "colab": {
          "base_uri": "https://localhost:8080/",
          "height": 282
        },
        "id": "7k0-9qKuESCq",
        "outputId": "84f16c45-a895-4f06-d0dc-a08ba98b080e"
      },
      "execution_count": 11,
      "outputs": [
        {
          "output_type": "execute_result",
          "data": {
            "text/plain": [
              "<AxesSubplot:>"
            ]
          },
          "metadata": {},
          "execution_count": 11
        },
        {
          "output_type": "display_data",
          "data": {
            "text/plain": [
              "<Figure size 432x288 with 1 Axes>"
            ],
            "image/png": "[encoded data removed]"
          },
          "metadata": {
            "needs_background": "light"
          }
        }
      ]
    },
    {
      "cell_type": "code",
      "source": [
        "postcode.sjoin"
      ],
      "metadata": {
        "id": "DqemC536EgbB"
      },
      "execution_count": null,
      "outputs": []
    },
    {
      "cell_type": "code",
      "source": [
        "Rd =gp.read_file(\"RotaryDistricts.geojson\").to_crs(\"7844\")"
      ],
      "metadata": {
        "id": "7h8AAYc2K3e_"
      },
      "execution_count": 41,
      "outputs": []
    },
    {
      "cell_type": "code",
      "source": [
        "Rd.plot()"
      ],
      "metadata": {
        "colab": {
          "base_uri": "https://localhost:8080/",
          "height": 282
        },
        "id": "m8EZIHsjNJLd",
        "outputId": "23baf5a1-9269-48b7-866f-a59d652c3386"
      },
      "execution_count": 42,
      "outputs": [
        {
          "output_type": "execute_result",
          "data": {
            "text/plain": [
              "<AxesSubplot:>"
            ]
          },
          "metadata": {},
          "execution_count": 42
        },
        {
          "output_type": "display_data",
          "data": {
            "text/plain": [
              "<Figure size 432x288 with 1 Axes>"
            ],
            "image/png": "[encoded data removed]"
          },
          "metadata": {
            "needs_background": "light"
          }
        }
      ]
    },
    {
      "cell_type": "code",
      "source": [
        "Rd"
      ],
      "metadata": {
        "colab": {
          "base_uri": "https://localhost:8080/",
          "height": 143
        },
        "id": "XxbzInkiOEUC",
        "outputId": "e3869a04-ba95-4d32-8a40-5a09d4535e6f"
      },
      "execution_count": 43,
      "outputs": [
        {
          "output_type": "execute_result",
          "data": {
            "text/plain": [
              "   RotaryDistrict                                           geometry\n",
              "0            9830  POLYGON ((143.80904 -39.40923, 143.67318 -40.1...\n",
              "1            9820  POLYGON ((146.36299 -39.22405, 146.79489 -38.7...\n",
              "2            9810  POLYGON ((144.90124 -37.84951, 145.09505 -38.0..."
            ],
            "text/html": [
              "\n",
              "  <div id=\"df-2886b2da-d2f8-45e5-b908-c9199ed8a127\">\n",
              "    <div class=\"colab-df-container\">\n",
              "      <div>\n",
              "<style scoped>\n",
              "    .dataframe tbody tr th:only-of-type {\n",
              "        vertical-align: middle;\n",
              "    }\n",
              "\n",
              "    .dataframe tbody tr th {\n",
              "        vertical-align: top;\n",
              "    }\n",
              "\n",
              "    .dataframe thead th {\n",
              "        text-align: right;\n",
              "    }\n",
              "</style>\n",
              "<table border=\"1\" class=\"dataframe\">\n",
              "  <thead>\n",
              "    <tr style=\"text-align: right;\">\n",
              "      <th></th>\n",
              "      <th>RotaryDistrict</th>\n",
              "      <th>geometry</th>\n",
              "    </tr>\n",
              "  </thead>\n",
              "  <tbody>\n",
              "    <tr>\n",
              "      <th>0</th>\n",
              "      <td>9830</td>\n",
              "      <td>POLYGON ((143.80904 -39.40923, 143.67318 -40.1...</td>\n",
              "    </tr>\n",
              "    <tr>\n",
              "      <th>1</th>\n",
              "      <td>9820</td>\n",
              "      <td>POLYGON ((146.36299 -39.22405, 146.79489 -38.7...</td>\n",
              "    </tr>\n",
              "    <tr>\n",
              "      <th>2</th>\n",
              "      <td>9810</td>\n",
              "      <td>POLYGON ((144.90124 -37.84951, 145.09505 -38.0...</td>\n",
              "    </tr>\n",
              "  </tbody>\n",
              "</table>\n",
              "</div>\n",
              "      <button class=\"colab-df-convert\" onclick=\"convertToInteractive('df-2886b2da-d2f8-45e5-b908-c9199ed8a127')\"\n",
              "              title=\"Convert this dataframe to an interactive table.\"\n",
              "              style=\"display:none;\">\n",
              "        \n",
              "  <svg xmlns=\"http://www.w3.org/2000/svg\" height=\"24px\"viewBox=\"0 0 24 24\"\n",
              "       width=\"24px\">\n",
              "    <path d=\"M0 0h24v24H0V0z\" fill=\"none\"/>\n",
              "    <path d=\"M18.56 5.44l.94 2.06.94-2.06 2.06-.94-2.06-.94-.94-2.06-.94 2.06-2.06.94zm-11 1L8.5 8.5l.94-2.06 2.06-.94-2.06-.94L8.5 2.5l-.94 2.06-2.06.94zm10 10l.94 2.06.94-2.06 2.06-.94-2.06-.94-.94-2.06-.94 2.06-2.06.94z\"/><path d=\"M17.41 7.96l-1.37-1.37c-.4-.4-.92-.59-1.43-.59-.52 0-1.04.2-1.43.59L10.3 9.45l-7.72 7.72c-.78.78-.78 2.05 0 2.83L4 21.41c.39.39.9.59 1.41.59.51 0 1.02-.2 1.41-.59l7.78-7.78 2.81-2.81c.8-.78.8-2.07 0-2.86zM5.41 20L4 18.59l7.72-7.72 1.47 1.35L5.41 20z\"/>\n",
              "  </svg>\n",
              "      </button>\n",
              "      \n",
              "  <style>\n",
              "    .colab-df-container {\n",
              "      display:flex;\n",
              "      flex-wrap:wrap;\n",
              "      gap: 12px;\n",
              "    }\n",
              "\n",
              "    .colab-df-convert {\n",
              "      background-color: #E8F0FE;\n",
              "      border: none;\n",
              "      border-radius: 50%;\n",
              "      cursor: pointer;\n",
              "      display: none;\n",
              "      fill: #1967D2;\n",
              "      height: 32px;\n",
              "      padding: 0 0 0 0;\n",
              "      width: 32px;\n",
              "    }\n",
              "\n",
              "    .colab-df-convert:hover {\n",
              "      background-color: #E2EBFA;\n",
              "      box-shadow: 0px 1px 2px rgba(60, 64, 67, 0.3), 0px 1px 3px 1px rgba(60, 64, 67, 0.15);\n",
              "      fill: #174EA6;\n",
              "    }\n",
              "\n",
              "    [theme=dark] .colab-df-convert {\n",
              "      background-color: #3B4455;\n",
              "      fill: #D2E3FC;\n",
              "    }\n",
              "\n",
              "    [theme=dark] .colab-df-convert:hover {\n",
              "      background-color: #434B5C;\n",
              "      box-shadow: 0px 1px 3px 1px rgba(0, 0, 0, 0.15);\n",
              "      filter: drop-shadow(0px 1px 2px rgba(0, 0, 0, 0.3));\n",
              "      fill: #FFFFFF;\n",
              "    }\n",
              "  </style>\n",
              "\n",
              "      <script>\n",
              "        const buttonEl =\n",
              "          document.querySelector('#df-2886b2da-d2f8-45e5-b908-c9199ed8a127 button.colab-df-convert');\n",
              "        buttonEl.style.display =\n",
              "          google.colab.kernel.accessAllowed ? 'block' : 'none';\n",
              "\n",
              "        async function convertToInteractive(key) {\n",
              "          const element = document.querySelector('#df-2886b2da-d2f8-45e5-b908-c9199ed8a127');\n",
              "          const dataTable =\n",
              "            await google.colab.kernel.invokeFunction('convertToInteractive',\n",
              "                                                     [key], {});\n",
              "          if (!dataTable) return;\n",
              "\n",
              "          const docLinkHtml = 'Like what you see? Visit the ' +\n",
              "            '<a target=\"_blank\" href=https://colab.research.google.com/notebooks/data_table.ipynb>data table notebook</a>'\n",
              "            + ' to learn more about interactive tables.';\n",
              "          element.innerHTML = '';\n",
              "          dataTable['output_type'] = 'display_data';\n",
              "          await google.colab.output.renderOutput(dataTable, element);\n",
              "          const docLink = document.createElement('div');\n",
              "          docLink.innerHTML = docLinkHtml;\n",
              "          element.appendChild(docLink);\n",
              "        }\n",
              "      </script>\n",
              "    </div>\n",
              "  </div>\n",
              "  "
            ]
          },
          "metadata": {},
          "execution_count": 43
        }
      ]
    },
    {
      "cell_type": "code",
      "source": [
        "\n",
        "join= Rd.sjoin(postcode,how='left',predicate='contains' )\n"
      ],
      "metadata": {
        "id": "XmU5sGHQLMbh"
      },
      "execution_count": 44,
      "outputs": []
    },
    {
      "cell_type": "code",
      "source": [
        "join"
      ],
      "metadata": {
        "colab": {
          "base_uri": "https://localhost:8080/",
          "height": 424
        },
        "id": "8ATjAL54LUJJ",
        "outputId": "94607cfd-50d1-4156-8ed3-345a4b6422f2"
      },
      "execution_count": 45,
      "outputs": [
        {
          "output_type": "execute_result",
          "data": {
            "text/plain": [
              "    RotaryDistrict                                           geometry  \\\n",
              "0             9830  POLYGON ((143.80904 -39.40923, 143.67318 -40.1...   \n",
              "0             9830  POLYGON ((143.80904 -39.40923, 143.67318 -40.1...   \n",
              "0             9830  POLYGON ((143.80904 -39.40923, 143.67318 -40.1...   \n",
              "0             9830  POLYGON ((143.80904 -39.40923, 143.67318 -40.1...   \n",
              "0             9830  POLYGON ((143.80904 -39.40923, 143.67318 -40.1...   \n",
              "..             ...                                                ...   \n",
              "2             9810  POLYGON ((144.90124 -37.84951, 145.09505 -38.0...   \n",
              "2             9810  POLYGON ((144.90124 -37.84951, 145.09505 -38.0...   \n",
              "2             9810  POLYGON ((144.90124 -37.84951, 145.09505 -38.0...   \n",
              "2             9810  POLYGON ((144.90124 -37.84951, 145.09505 -38.0...   \n",
              "2             9810  POLYGON ((144.90124 -37.84951, 145.09505 -38.0...   \n",
              "\n",
              "    index_right POA_CODE21 POA_NAME21 AUS_CODE21 AUS_NAME21  AREASQKM21  \\\n",
              "0          2638       7468       7468        AUS  Australia    309.9494   \n",
              "0          2636       7466       7466        AUS  Australia     68.8166   \n",
              "0          2637       7467       7467        AUS  Australia    144.0971   \n",
              "0          2640       7470       7470        AUS  Australia    108.2441   \n",
              "0          2639       7469       7469        AUS  Australia   5893.5125   \n",
              "..          ...        ...        ...        ...        ...         ...   \n",
              "2           818       3170       3170        AUS  Australia     10.7189   \n",
              "2           808       3159       3159        AUS  Australia     14.0266   \n",
              "2           806       3156       3156        AUS  Australia     53.5101   \n",
              "2          1223       3782       3782        AUS  Australia     88.6992   \n",
              "2           826       3179       3179        AUS  Australia      8.6902   \n",
              "\n",
              "                                           LOCI_URI21  SHAPE_Leng  SHAPE_Area  \n",
              "0   http://linked.data.gov.au/dataset/asgsed3/POA/...    2.114872    0.033768  \n",
              "0   http://linked.data.gov.au/dataset/asgsed3/POA/...    0.737044    0.007487  \n",
              "0   http://linked.data.gov.au/dataset/asgsed3/POA/...    0.765625    0.015677  \n",
              "0   http://linked.data.gov.au/dataset/asgsed3/POA/...    0.781048    0.011725  \n",
              "0   http://linked.data.gov.au/dataset/asgsed3/POA/...   11.341555    0.636169  \n",
              "..                                                ...         ...         ...  \n",
              "2   http://linked.data.gov.au/dataset/asgsed3/POA/...    0.206917    0.001098  \n",
              "2   http://linked.data.gov.au/dataset/asgsed3/POA/...    0.217115    0.001437  \n",
              "2   http://linked.data.gov.au/dataset/asgsed3/POA/...    0.487538    0.005483  \n",
              "2   http://linked.data.gov.au/dataset/asgsed3/POA/...    0.646115    0.009089  \n",
              "2   http://linked.data.gov.au/dataset/asgsed3/POA/...    0.204701    0.000890  \n",
              "\n",
              "[380 rows x 11 columns]"
            ],
            "text/html": [
              "\n",
              "  <div id=\"df-6578eb61-012f-4874-b269-159db187ded4\">\n",
              "    <div class=\"colab-df-container\">\n",
              "      <div>\n",
              "<style scoped>\n",
              "    .dataframe tbody tr th:only-of-type {\n",
              "        vertical-align: middle;\n",
              "    }\n",
              "\n",
              "    .dataframe tbody tr th {\n",
              "        vertical-align: top;\n",
              "    }\n",
              "\n",
              "    .dataframe thead th {\n",
              "        text-align: right;\n",
              "    }\n",
              "</style>\n",
              "<table border=\"1\" class=\"dataframe\">\n",
              "  <thead>\n",
              "    <tr style=\"text-align: right;\">\n",
              "      <th></th>\n",
              "      <th>RotaryDistrict</th>\n",
              "      <th>geometry</th>\n",
              "      <th>index_right</th>\n",
              "      <th>POA_CODE21</th>\n",
              "      <th>POA_NAME21</th>\n",
              "      <th>AUS_CODE21</th>\n",
              "      <th>AUS_NAME21</th>\n",
              "      <th>AREASQKM21</th>\n",
              "      <th>LOCI_URI21</th>\n",
              "      <th>SHAPE_Leng</th>\n",
              "      <th>SHAPE_Area</th>\n",
              "    </tr>\n",
              "  </thead>\n",
              "  <tbody>\n",
              "    <tr>\n",
              "      <th>0</th>\n",
              "      <td>9830</td>\n",
              "      <td>POLYGON ((143.80904 -39.40923, 143.67318 -40.1...</td>\n",
              "      <td>2638</td>\n",
              "      <td>7468</td>\n",
              "      <td>7468</td>\n",
              "      <td>AUS</td>\n",
              "      <td>Australia</td>\n",
              "      <td>309.9494</td>\n",
              "      <td>http://linked.data.gov.au/dataset/asgsed3/POA/...</td>\n",
              "      <td>2.114872</td>\n",
              "      <td>0.033768</td>\n",
              "    </tr>\n",
              "    <tr>\n",
              "      <th>0</th>\n",
              "      <td>9830</td>\n",
              "      <td>POLYGON ((143.80904 -39.40923, 143.67318 -40.1...</td>\n",
              "      <td>2636</td>\n",
              "      <td>7466</td>\n",
              "      <td>7466</td>\n",
              "      <td>AUS</td>\n",
              "      <td>Australia</td>\n",
              "      <td>68.8166</td>\n",
              "      <td>http://linked.data.gov.au/dataset/asgsed3/POA/...</td>\n",
              "      <td>0.737044</td>\n",
              "      <td>0.007487</td>\n",
              "    </tr>\n",
              "    <tr>\n",
              "      <th>0</th>\n",
              "      <td>9830</td>\n",
              "      <td>POLYGON ((143.80904 -39.40923, 143.67318 -40.1...</td>\n",
              "      <td>2637</td>\n",
              "      <td>7467</td>\n",
              "      <td>7467</td>\n",
              "      <td>AUS</td>\n",
              "      <td>Australia</td>\n",
              "      <td>144.0971</td>\n",
              "      <td>http://linked.data.gov.au/dataset/asgsed3/POA/...</td>\n",
              "      <td>0.765625</td>\n",
              "      <td>0.015677</td>\n",
              "    </tr>\n",
              "    <tr>\n",
              "      <th>0</th>\n",
              "      <td>9830</td>\n",
              "      <td>POLYGON ((143.80904 -39.40923, 143.67318 -40.1...</td>\n",
              "      <td>2640</td>\n",
              "      <td>7470</td>\n",
              "      <td>7470</td>\n",
              "      <td>AUS</td>\n",
              "      <td>Australia</td>\n",
              "      <td>108.2441</td>\n",
              "      <td>http://linked.data.gov.au/dataset/asgsed3/POA/...</td>\n",
              "      <td>0.781048</td>\n",
              "      <td>0.011725</td>\n",
              "    </tr>\n",
              "    <tr>\n",
              "      <th>0</th>\n",
              "      <td>9830</td>\n",
              "      <td>POLYGON ((143.80904 -39.40923, 143.67318 -40.1...</td>\n",
              "      <td>2639</td>\n",
              "      <td>7469</td>\n",
              "      <td>7469</td>\n",
              "      <td>AUS</td>\n",
              "      <td>Australia</td>\n",
              "      <td>5893.5125</td>\n",
              "      <td>http://linked.data.gov.au/dataset/asgsed3/POA/...</td>\n",
              "      <td>11.341555</td>\n",
              "      <td>0.636169</td>\n",
              "    </tr>\n",
              "    <tr>\n",
              "      <th>...</th>\n",
              "      <td>...</td>\n",
              "      <td>...</td>\n",
              "      <td>...</td>\n",
              "      <td>...</td>\n",
              "      <td>...</td>\n",
              "      <td>...</td>\n",
              "      <td>...</td>\n",
              "      <td>...</td>\n",
              "      <td>...</td>\n",
              "      <td>...</td>\n",
              "      <td>...</td>\n",
              "    </tr>\n",
              "    <tr>\n",
              "      <th>2</th>\n",
              "      <td>9810</td>\n",
              "      <td>POLYGON ((144.90124 -37.84951, 145.09505 -38.0...</td>\n",
              "      <td>818</td>\n",
              "      <td>3170</td>\n",
              "      <td>3170</td>\n",
              "      <td>AUS</td>\n",
              "      <td>Australia</td>\n",
              "      <td>10.7189</td>\n",
              "      <td>http://linked.data.gov.au/dataset/asgsed3/POA/...</td>\n",
              "      <td>0.206917</td>\n",
              "      <td>0.001098</td>\n",
              "    </tr>\n",
              "    <tr>\n",
              "      <th>2</th>\n",
              "      <td>9810</td>\n",
              "      <td>POLYGON ((144.90124 -37.84951, 145.09505 -38.0...</td>\n",
              "      <td>808</td>\n",
              "      <td>3159</td>\n",
              "      <td>3159</td>\n",
              "      <td>AUS</td>\n",
              "      <td>Australia</td>\n",
              "      <td>14.0266</td>\n",
              "      <td>http://linked.data.gov.au/dataset/asgsed3/POA/...</td>\n",
              "      <td>0.217115</td>\n",
              "      <td>0.001437</td>\n",
              "    </tr>\n",
              "    <tr>\n",
              "      <th>2</th>\n",
              "      <td>9810</td>\n",
              "      <td>POLYGON ((144.90124 -37.84951, 145.09505 -38.0...</td>\n",
              "      <td>806</td>\n",
              "      <td>3156</td>\n",
              "      <td>3156</td>\n",
              "      <td>AUS</td>\n",
              "      <td>Australia</td>\n",
              "      <td>53.5101</td>\n",
              "      <td>http://linked.data.gov.au/dataset/asgsed3/POA/...</td>\n",
              "      <td>0.487538</td>\n",
              "      <td>0.005483</td>\n",
              "    </tr>\n",
              "    <tr>\n",
              "      <th>2</th>\n",
              "      <td>9810</td>\n",
              "      <td>POLYGON ((144.90124 -37.84951, 145.09505 -38.0...</td>\n",
              "      <td>1223</td>\n",
              "      <td>3782</td>\n",
              "      <td>3782</td>\n",
              "      <td>AUS</td>\n",
              "      <td>Australia</td>\n",
              "      <td>88.6992</td>\n",
              "      <td>http://linked.data.gov.au/dataset/asgsed3/POA/...</td>\n",
              "      <td>0.646115</td>\n",
              "      <td>0.009089</td>\n",
              "    </tr>\n",
              "    <tr>\n",
              "      <th>2</th>\n",
              "      <td>9810</td>\n",
              "      <td>POLYGON ((144.90124 -37.84951, 145.09505 -38.0...</td>\n",
              "      <td>826</td>\n",
              "      <td>3179</td>\n",
              "      <td>3179</td>\n",
              "      <td>AUS</td>\n",
              "      <td>Australia</td>\n",
              "      <td>8.6902</td>\n",
              "      <td>http://linked.data.gov.au/dataset/asgsed3/POA/...</td>\n",
              "      <td>0.204701</td>\n",
              "      <td>0.000890</td>\n",
              "    </tr>\n",
              "  </tbody>\n",
              "</table>\n",
              "<p>380 rows × 11 columns</p>\n",
              "</div>\n",
              "      <button class=\"colab-df-convert\" onclick=\"convertToInteractive('df-6578eb61-012f-4874-b269-159db187ded4')\"\n",
              "              title=\"Convert this dataframe to an interactive table.\"\n",
              "              style=\"display:none;\">\n",
              "        \n",
              "  <svg xmlns=\"http://www.w3.org/2000/svg\" height=\"24px\"viewBox=\"0 0 24 24\"\n",
              "       width=\"24px\">\n",
              "    <path d=\"M0 0h24v24H0V0z\" fill=\"none\"/>\n",
              "    <path d=\"M18.56 5.44l.94 2.06.94-2.06 2.06-.94-2.06-.94-.94-2.06-.94 2.06-2.06.94zm-11 1L8.5 8.5l.94-2.06 2.06-.94-2.06-.94L8.5 2.5l-.94 2.06-2.06.94zm10 10l.94 2.06.94-2.06 2.06-.94-2.06-.94-.94-2.06-.94 2.06-2.06.94z\"/><path d=\"M17.41 7.96l-1.37-1.37c-.4-.4-.92-.59-1.43-.59-.52 0-1.04.2-1.43.59L10.3 9.45l-7.72 7.72c-.78.78-.78 2.05 0 2.83L4 21.41c.39.39.9.59 1.41.59.51 0 1.02-.2 1.41-.59l7.78-7.78 2.81-2.81c.8-.78.8-2.07 0-2.86zM5.41 20L4 18.59l7.72-7.72 1.47 1.35L5.41 20z\"/>\n",
              "  </svg>\n",
              "      </button>\n",
              "      \n",
              "  <style>\n",
              "    .colab-df-container {\n",
              "      display:flex;\n",
              "      flex-wrap:wrap;\n",
              "      gap: 12px;\n",
              "    }\n",
              "\n",
              "    .colab-df-convert {\n",
              "      background-color: #E8F0FE;\n",
              "      border: none;\n",
              "      border-radius: 50%;\n",
              "      cursor: pointer;\n",
              "      display: none;\n",
              "      fill: #1967D2;\n",
              "      height: 32px;\n",
              "      padding: 0 0 0 0;\n",
              "      width: 32px;\n",
              "    }\n",
              "\n",
              "    .colab-df-convert:hover {\n",
              "      background-color: #E2EBFA;\n",
              "      box-shadow: 0px 1px 2px rgba(60, 64, 67, 0.3), 0px 1px 3px 1px rgba(60, 64, 67, 0.15);\n",
              "      fill: #174EA6;\n",
              "    }\n",
              "\n",
              "    [theme=dark] .colab-df-convert {\n",
              "      background-color: #3B4455;\n",
              "      fill: #D2E3FC;\n",
              "    }\n",
              "\n",
              "    [theme=dark] .colab-df-convert:hover {\n",
              "      background-color: #434B5C;\n",
              "      box-shadow: 0px 1px 3px 1px rgba(0, 0, 0, 0.15);\n",
              "      filter: drop-shadow(0px 1px 2px rgba(0, 0, 0, 0.3));\n",
              "      fill: #FFFFFF;\n",
              "    }\n",
              "  </style>\n",
              "\n",
              "      <script>\n",
              "        const buttonEl =\n",
              "          document.querySelector('#df-6578eb61-012f-4874-b269-159db187ded4 button.colab-df-convert');\n",
              "        buttonEl.style.display =\n",
              "          google.colab.kernel.accessAllowed ? 'block' : 'none';\n",
              "\n",
              "        async function convertToInteractive(key) {\n",
              "          const element = document.querySelector('#df-6578eb61-012f-4874-b269-159db187ded4');\n",
              "          const dataTable =\n",
              "            await google.colab.kernel.invokeFunction('convertToInteractive',\n",
              "                                                     [key], {});\n",
              "          if (!dataTable) return;\n",
              "\n",
              "          const docLinkHtml = 'Like what you see? Visit the ' +\n",
              "            '<a target=\"_blank\" href=https://colab.research.google.com/notebooks/data_table.ipynb>data table notebook</a>'\n",
              "            + ' to learn more about interactive tables.';\n",
              "          element.innerHTML = '';\n",
              "          dataTable['output_type'] = 'display_data';\n",
              "          await google.colab.output.renderOutput(dataTable, element);\n",
              "          const docLink = document.createElement('div');\n",
              "          docLink.innerHTML = docLinkHtml;\n",
              "          element.appendChild(docLink);\n",
              "        }\n",
              "      </script>\n",
              "    </div>\n",
              "  </div>\n",
              "  "
            ]
          },
          "metadata": {},
          "execution_count": 45
        }
      ]
    },
    {
      "cell_type": "code",
      "source": [
        "def WhichRD(postcode):\n",
        "  try:\n",
        "    return join[join.POA_CODE21==postcode].RotaryDistrict.values.tolist()\n",
        "  except:\n",
        "    return \"UNKNOW\"\n"
      ],
      "metadata": {
        "id": "x0VmEjNYMIJh"
      },
      "execution_count": 63,
      "outputs": []
    },
    {
      "cell_type": "code",
      "source": [
        "WhichRD(\"7119\")"
      ],
      "metadata": {
        "colab": {
          "base_uri": "https://localhost:8080/"
        },
        "id": "Zeq1BN7aNegJ",
        "outputId": "c92e06b1-644a-4e4f-a743-3bff7e1e5e58"
      },
      "execution_count": 64,
      "outputs": [
        {
          "output_type": "execute_result",
          "data": {
            "text/plain": [
              "[9830]"
            ]
          },
          "metadata": {},
          "execution_count": 64
        }
      ]
    },
    {
      "cell_type": "code",
      "source": [
        "join[join.POA_CODE21==\"7256\"].RotaryDistrict.values.tolist()"
      ],
      "metadata": {
        "colab": {
          "base_uri": "https://localhost:8080/"
        },
        "id": "lXhcbJq2PhFX",
        "outputId": "5bbc51ee-c367-46d3-aae9-1f40aa273588"
      },
      "execution_count": 60,
      "outputs": [
        {
          "output_type": "execute_result",
          "data": {
            "text/plain": [
              "[9830]"
            ]
          },
          "metadata": {},
          "execution_count": 60
        }
      ]
    },
    {
      "cell_type": "code",
      "source": [],
      "metadata": {
        "id": "ajJLJWALQLiQ"
      },
      "execution_count": null,
      "outputs": []
    }
  ]
}